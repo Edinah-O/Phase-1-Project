{
 "cells": [
  {
   "cell_type": "markdown",
   "id": "3e1a1a6a-e3a2-437d-af59-5b7e8e6f3ea9",
   "metadata": {},
   "source": [
    "# Phase 1 Project\n",
    "## Project Overview\n",
    "### Identifying Low-Risk Aircraft for New Aviation Division Launch\n",
    "For this project will use data cleaning, imputation, analysis, and visualization to generate insights for a business stakeholder.\n",
    "\n",
    "## Business Understanding\n",
    "\n",
    "### 1. Project Purpose\n",
    "\n",
    "This project is a strategic initiative to support the company's expansion into the aviation industry. The primary purpose is to conduct a comprehensive analysis of aircraft risk profiles to identify and recommend the most suitable low-risk aircraft for the new aviation division's initial fleet. This analysis will provide the necessary data and insights to mitigate the significant risks associated with aircraft acquisition and operation, thereby ensuring a stable and successful launch of the new business venture.\n",
    "\n",
    "### 2. Problem Statement\n",
    "\n",
    "The company is entering the aviation sector with a limited understanding of the inherent risks, which include, but are not limited to, accident rates, operational complexity, aircraft damage potential, and the human cost of incidents. A lack of data-driven insights in this area could lead to sub-optimal purchasing decisions, resulting in financial losses, operational inefficiencies, and significant safety liabilities. The problem is to transform raw aviation incident data into actionable intelligence that quantifies these risks and guides the selection of a low-risk, high-reliability aircraft portfolio.\n",
    "\n",
    "### 3. Project Scope\n",
    "\n",
    "#### This project will focus on the following key areas:\n",
    "\n",
    " * Data Analysis: Utilizing the provided \"Aviation_Data.csv\" dataset, the project will analyze historical aviation incidents to assess risk factors.\n",
    "\n",
    " * Risk Factor Quantification: Key risk factors such as accident frequency, aircraft damage severity, and human injury rates will be quantified and benchmarked across different aircraft makes and models.\n",
    "\n",
    " * Aircraft Filtering: The analysis will be filtered to focus on aircraft types relevant to commercial and private enterprises, excluding categories like amateur-built or military aircraft.\n",
    "\n",
    " * Risk Profile Generation: A comprehensive risk profile will be developed for each significant aircraft make and model, considering accident severity, operational context (e.g., phase of flight, weather conditions), and human impact.\n",
    "\n",
    " * Recommendation & Actionable Insights: The project will culminate in a set of clear, actionable recommendations for the head of the new aviation division, identifying specific aircraft makes and models that represent the lowest overall risk for initial acquisition. The report will explain the rationale behind these recommendations, highlighting key risk mitigation strategies.\n",
    " "
   ]
  },
  {
   "cell_type": "markdown",
   "id": "31ea4493-bfe1-49c1-9d1e-5e521a676d14",
   "metadata": {},
   "source": [
    "## Key Business Questions to Address:\n",
    "\n",
    "1. What are the primary risk factors associated with aircraft ownership and operation (e.g., accident rates, )?\n",
    "\n",
    "3. How can these risk factors be quantified or assessed for different aircraft types?\n",
    "\n",
    "4. Which specific aircraft models exhibit the lowest overall risk profile based on a comprehensive evaluation of these factors?\n",
    "\n",
    "5. What are the key characteristics of these low-risk aircraft that make them suitable for the company's initial ventures?\n",
    "\n",
    "6. What actionable insights and recommendations can be provided to the head of the aviation division to guide their aircraft purchasing\n",
    "\n",
    "   decisions?"
   ]
  },
  {
   "cell_type": "markdown",
   "id": "daa82679-2941-4dca-b92d-04850bafec75",
   "metadata": {},
   "source": [
    "## Data Understanding\n",
    "The data sources for this analysis will be pulled from the National Transportation Safety Board that includes aviation accident data from 1962 to 2023 about civil aviation accidents and selected incidents in the United States and international waters.\n",
    "The data is contained in a csv file \"Aviation_Data.csv\""
   ]
  },
  {
   "cell_type": "markdown",
   "id": "0b5a1976-0461-4dc6-81ec-bf7e4011db79",
   "metadata": {},
   "source": [
    "### 1. Loading the Data with Pandas\n",
    "In the cell below, we:\n",
    "\n",
    "  * Import and alias pandas as pd\n",
    "  * Import and alias numpy as np\n",
    "  * Import and alias seaborn as sns\n",
    "  * Import and alias matplotlib.pyplot as plt\n",
    "  * Set Matplotlib visualizations to display inline in the notebook"
   ]
  },
  {
   "cell_type": "code",
   "execution_count": 1,
   "id": "7ea7bf8c-6e49-4115-9298-3d5b1dc578bf",
   "metadata": {},
   "outputs": [],
   "source": [
    "import pandas as pd\n",
    "import numpy as np\n",
    "import seaborn as sns\n",
    "import matplotlib.pyplot as plt\n",
    "%matplotlib inline"
   ]
  },
  {
   "cell_type": "code",
   "execution_count": 2,
   "id": "2a525e7c-ecca-4f79-b96d-c3bc4cecb46f",
   "metadata": {},
   "outputs": [
    {
     "data": {
      "text/html": [
       "<div>\n",
       "<style scoped>\n",
       "    .dataframe tbody tr th:only-of-type {\n",
       "        vertical-align: middle;\n",
       "    }\n",
       "\n",
       "    .dataframe tbody tr th {\n",
       "        vertical-align: top;\n",
       "    }\n",
       "\n",
       "    .dataframe thead th {\n",
       "        text-align: right;\n",
       "    }\n",
       "</style>\n",
       "<table border=\"1\" class=\"dataframe\">\n",
       "  <thead>\n",
       "    <tr style=\"text-align: right;\">\n",
       "      <th></th>\n",
       "      <th>Event.Id</th>\n",
       "      <th>Investigation.Type</th>\n",
       "      <th>Accident.Number</th>\n",
       "      <th>Event.Date</th>\n",
       "      <th>Location</th>\n",
       "      <th>Country</th>\n",
       "      <th>Latitude</th>\n",
       "      <th>Longitude</th>\n",
       "      <th>Airport.Code</th>\n",
       "      <th>Airport.Name</th>\n",
       "      <th>...</th>\n",
       "      <th>Purpose.of.flight</th>\n",
       "      <th>Air.carrier</th>\n",
       "      <th>Total.Fatal.Injuries</th>\n",
       "      <th>Total.Serious.Injuries</th>\n",
       "      <th>Total.Minor.Injuries</th>\n",
       "      <th>Total.Uninjured</th>\n",
       "      <th>Weather.Condition</th>\n",
       "      <th>Broad.phase.of.flight</th>\n",
       "      <th>Report.Status</th>\n",
       "      <th>Publication.Date</th>\n",
       "    </tr>\n",
       "  </thead>\n",
       "  <tbody>\n",
       "    <tr>\n",
       "      <th>0</th>\n",
       "      <td>20001218X45444</td>\n",
       "      <td>Accident</td>\n",
       "      <td>SEA87LA080</td>\n",
       "      <td>1948-10-24</td>\n",
       "      <td>MOOSE CREEK, ID</td>\n",
       "      <td>United States</td>\n",
       "      <td>NaN</td>\n",
       "      <td>NaN</td>\n",
       "      <td>NaN</td>\n",
       "      <td>NaN</td>\n",
       "      <td>...</td>\n",
       "      <td>Personal</td>\n",
       "      <td>NaN</td>\n",
       "      <td>2.0</td>\n",
       "      <td>0.0</td>\n",
       "      <td>0.0</td>\n",
       "      <td>0.0</td>\n",
       "      <td>UNK</td>\n",
       "      <td>Cruise</td>\n",
       "      <td>Probable Cause</td>\n",
       "      <td>NaN</td>\n",
       "    </tr>\n",
       "    <tr>\n",
       "      <th>1</th>\n",
       "      <td>20001218X45447</td>\n",
       "      <td>Accident</td>\n",
       "      <td>LAX94LA336</td>\n",
       "      <td>1962-07-19</td>\n",
       "      <td>BRIDGEPORT, CA</td>\n",
       "      <td>United States</td>\n",
       "      <td>NaN</td>\n",
       "      <td>NaN</td>\n",
       "      <td>NaN</td>\n",
       "      <td>NaN</td>\n",
       "      <td>...</td>\n",
       "      <td>Personal</td>\n",
       "      <td>NaN</td>\n",
       "      <td>4.0</td>\n",
       "      <td>0.0</td>\n",
       "      <td>0.0</td>\n",
       "      <td>0.0</td>\n",
       "      <td>UNK</td>\n",
       "      <td>Unknown</td>\n",
       "      <td>Probable Cause</td>\n",
       "      <td>19-09-1996</td>\n",
       "    </tr>\n",
       "    <tr>\n",
       "      <th>2</th>\n",
       "      <td>20061025X01555</td>\n",
       "      <td>Accident</td>\n",
       "      <td>NYC07LA005</td>\n",
       "      <td>1974-08-30</td>\n",
       "      <td>Saltville, VA</td>\n",
       "      <td>United States</td>\n",
       "      <td>36.922223</td>\n",
       "      <td>-81.878056</td>\n",
       "      <td>NaN</td>\n",
       "      <td>NaN</td>\n",
       "      <td>...</td>\n",
       "      <td>Personal</td>\n",
       "      <td>NaN</td>\n",
       "      <td>3.0</td>\n",
       "      <td>NaN</td>\n",
       "      <td>NaN</td>\n",
       "      <td>NaN</td>\n",
       "      <td>IMC</td>\n",
       "      <td>Cruise</td>\n",
       "      <td>Probable Cause</td>\n",
       "      <td>26-02-2007</td>\n",
       "    </tr>\n",
       "    <tr>\n",
       "      <th>3</th>\n",
       "      <td>20001218X45448</td>\n",
       "      <td>Accident</td>\n",
       "      <td>LAX96LA321</td>\n",
       "      <td>1977-06-19</td>\n",
       "      <td>EUREKA, CA</td>\n",
       "      <td>United States</td>\n",
       "      <td>NaN</td>\n",
       "      <td>NaN</td>\n",
       "      <td>NaN</td>\n",
       "      <td>NaN</td>\n",
       "      <td>...</td>\n",
       "      <td>Personal</td>\n",
       "      <td>NaN</td>\n",
       "      <td>2.0</td>\n",
       "      <td>0.0</td>\n",
       "      <td>0.0</td>\n",
       "      <td>0.0</td>\n",
       "      <td>IMC</td>\n",
       "      <td>Cruise</td>\n",
       "      <td>Probable Cause</td>\n",
       "      <td>12-09-2000</td>\n",
       "    </tr>\n",
       "    <tr>\n",
       "      <th>4</th>\n",
       "      <td>20041105X01764</td>\n",
       "      <td>Accident</td>\n",
       "      <td>CHI79FA064</td>\n",
       "      <td>1979-08-02</td>\n",
       "      <td>Canton, OH</td>\n",
       "      <td>United States</td>\n",
       "      <td>NaN</td>\n",
       "      <td>NaN</td>\n",
       "      <td>NaN</td>\n",
       "      <td>NaN</td>\n",
       "      <td>...</td>\n",
       "      <td>Personal</td>\n",
       "      <td>NaN</td>\n",
       "      <td>1.0</td>\n",
       "      <td>2.0</td>\n",
       "      <td>NaN</td>\n",
       "      <td>0.0</td>\n",
       "      <td>VMC</td>\n",
       "      <td>Approach</td>\n",
       "      <td>Probable Cause</td>\n",
       "      <td>16-04-1980</td>\n",
       "    </tr>\n",
       "  </tbody>\n",
       "</table>\n",
       "<p>5 rows × 31 columns</p>\n",
       "</div>"
      ],
      "text/plain": [
       "         Event.Id Investigation.Type Accident.Number  Event.Date  \\\n",
       "0  20001218X45444           Accident      SEA87LA080  1948-10-24   \n",
       "1  20001218X45447           Accident      LAX94LA336  1962-07-19   \n",
       "2  20061025X01555           Accident      NYC07LA005  1974-08-30   \n",
       "3  20001218X45448           Accident      LAX96LA321  1977-06-19   \n",
       "4  20041105X01764           Accident      CHI79FA064  1979-08-02   \n",
       "\n",
       "          Location        Country   Latitude   Longitude Airport.Code  \\\n",
       "0  MOOSE CREEK, ID  United States        NaN         NaN          NaN   \n",
       "1   BRIDGEPORT, CA  United States        NaN         NaN          NaN   \n",
       "2    Saltville, VA  United States  36.922223  -81.878056          NaN   \n",
       "3       EUREKA, CA  United States        NaN         NaN          NaN   \n",
       "4       Canton, OH  United States        NaN         NaN          NaN   \n",
       "\n",
       "  Airport.Name  ... Purpose.of.flight Air.carrier Total.Fatal.Injuries  \\\n",
       "0          NaN  ...          Personal         NaN                  2.0   \n",
       "1          NaN  ...          Personal         NaN                  4.0   \n",
       "2          NaN  ...          Personal         NaN                  3.0   \n",
       "3          NaN  ...          Personal         NaN                  2.0   \n",
       "4          NaN  ...          Personal         NaN                  1.0   \n",
       "\n",
       "  Total.Serious.Injuries Total.Minor.Injuries Total.Uninjured  \\\n",
       "0                    0.0                  0.0             0.0   \n",
       "1                    0.0                  0.0             0.0   \n",
       "2                    NaN                  NaN             NaN   \n",
       "3                    0.0                  0.0             0.0   \n",
       "4                    2.0                  NaN             0.0   \n",
       "\n",
       "  Weather.Condition  Broad.phase.of.flight   Report.Status Publication.Date  \n",
       "0               UNK                 Cruise  Probable Cause              NaN  \n",
       "1               UNK                Unknown  Probable Cause       19-09-1996  \n",
       "2               IMC                 Cruise  Probable Cause       26-02-2007  \n",
       "3               IMC                 Cruise  Probable Cause       12-09-2000  \n",
       "4               VMC               Approach  Probable Cause       16-04-1980  \n",
       "\n",
       "[5 rows x 31 columns]"
      ]
     },
     "execution_count": 2,
     "metadata": {},
     "output_type": "execute_result"
    }
   ],
   "source": [
    "df = pd.read_csv(\"Aviation_Data.csv\", low_memory=False )\n",
    "df.head()"
   ]
  },
  {
   "cell_type": "markdown",
   "id": "de5e1d2a-9150-4bd4-8a12-0b4d46953d75",
   "metadata": {},
   "source": [
    "### 2. Famializing with the Data\n",
    "   * Understanding the dimensionality of the dataset\n",
    "   * Investigating what type of data it contains, and the data types used to store it\n",
    "   * Discovering how missing values are encoded, and how many there are\n",
    "   * Getting a feel for what information it does and doesn't contain"
   ]
  },
  {
   "cell_type": "code",
   "execution_count": 3,
   "id": "5580757b-382d-4a46-a8f6-782ef3ef962f",
   "metadata": {},
   "outputs": [
    {
     "data": {
      "text/plain": [
       "(90348, 31)"
      ]
     },
     "execution_count": 3,
     "metadata": {},
     "output_type": "execute_result"
    }
   ],
   "source": [
    "df.shape"
   ]
  },
  {
   "cell_type": "code",
   "execution_count": 4,
   "id": "1d166ef4-0bf9-4ccc-8522-1793040b503f",
   "metadata": {},
   "outputs": [
    {
     "name": "stdout",
     "output_type": "stream",
     "text": [
      "<class 'pandas.core.frame.DataFrame'>\n",
      "RangeIndex: 90348 entries, 0 to 90347\n",
      "Data columns (total 31 columns):\n",
      " #   Column                  Non-Null Count  Dtype  \n",
      "---  ------                  --------------  -----  \n",
      " 0   Event.Id                88889 non-null  object \n",
      " 1   Investigation.Type      90348 non-null  object \n",
      " 2   Accident.Number         88889 non-null  object \n",
      " 3   Event.Date              88889 non-null  object \n",
      " 4   Location                88837 non-null  object \n",
      " 5   Country                 88663 non-null  object \n",
      " 6   Latitude                34382 non-null  object \n",
      " 7   Longitude               34373 non-null  object \n",
      " 8   Airport.Code            50132 non-null  object \n",
      " 9   Airport.Name            52704 non-null  object \n",
      " 10  Injury.Severity         87889 non-null  object \n",
      " 11  Aircraft.damage         85695 non-null  object \n",
      " 12  Aircraft.Category       32287 non-null  object \n",
      " 13  Registration.Number     87507 non-null  object \n",
      " 14  Make                    88826 non-null  object \n",
      " 15  Model                   88797 non-null  object \n",
      " 16  Amateur.Built           88787 non-null  object \n",
      " 17  Number.of.Engines       82805 non-null  float64\n",
      " 18  Engine.Type             81793 non-null  object \n",
      " 19  FAR.Description         32023 non-null  object \n",
      " 20  Schedule                12582 non-null  object \n",
      " 21  Purpose.of.flight       82697 non-null  object \n",
      " 22  Air.carrier             16648 non-null  object \n",
      " 23  Total.Fatal.Injuries    77488 non-null  float64\n",
      " 24  Total.Serious.Injuries  76379 non-null  float64\n",
      " 25  Total.Minor.Injuries    76956 non-null  float64\n",
      " 26  Total.Uninjured         82977 non-null  float64\n",
      " 27  Weather.Condition       84397 non-null  object \n",
      " 28  Broad.phase.of.flight   61724 non-null  object \n",
      " 29  Report.Status           82505 non-null  object \n",
      " 30  Publication.Date        73659 non-null  object \n",
      "dtypes: float64(5), object(26)\n",
      "memory usage: 21.4+ MB\n"
     ]
    }
   ],
   "source": [
    "df.info()"
   ]
  },
  {
   "cell_type": "markdown",
   "id": "3a5c8d28-ee59-41d5-8529-15582deabb0c",
   "metadata": {},
   "source": [
    "From the information above we can deduce that: most of the items are objects and only 5 out of the 30 columns are floats and Event.Date and Publication.Date are objects instead of datetime."
   ]
  },
  {
   "cell_type": "code",
   "execution_count": 5,
   "id": "eb99217d-8165-4188-973c-2a317c83bc6b",
   "metadata": {},
   "outputs": [
    {
     "data": {
      "text/plain": [
       "Event.Id                   1459\n",
       "Investigation.Type            0\n",
       "Accident.Number            1459\n",
       "Event.Date                 1459\n",
       "Location                   1511\n",
       "Country                    1685\n",
       "Latitude                  55966\n",
       "Longitude                 55975\n",
       "Airport.Code              40216\n",
       "Airport.Name              37644\n",
       "Injury.Severity            2459\n",
       "Aircraft.damage            4653\n",
       "Aircraft.Category         58061\n",
       "Registration.Number        2841\n",
       "Make                       1522\n",
       "Model                      1551\n",
       "Amateur.Built              1561\n",
       "Number.of.Engines          7543\n",
       "Engine.Type                8555\n",
       "FAR.Description           58325\n",
       "Schedule                  77766\n",
       "Purpose.of.flight          7651\n",
       "Air.carrier               73700\n",
       "Total.Fatal.Injuries      12860\n",
       "Total.Serious.Injuries    13969\n",
       "Total.Minor.Injuries      13392\n",
       "Total.Uninjured            7371\n",
       "Weather.Condition          5951\n",
       "Broad.phase.of.flight     28624\n",
       "Report.Status              7843\n",
       "Publication.Date          16689\n",
       "dtype: int64"
      ]
     },
     "execution_count": 5,
     "metadata": {},
     "output_type": "execute_result"
    }
   ],
   "source": [
    "df.isnull().sum()"
   ]
  },
  {
   "cell_type": "code",
   "execution_count": 6,
   "id": "da734aee-3160-4c57-b1dc-1664affd0c61",
   "metadata": {
    "scrolled": true
   },
   "outputs": [
    {
     "data": {
      "text/plain": [
       "Index(['Event.Id', 'Investigation.Type', 'Accident.Number', 'Event.Date',\n",
       "       'Location', 'Country', 'Latitude', 'Longitude', 'Airport.Code',\n",
       "       'Airport.Name', 'Injury.Severity', 'Aircraft.damage',\n",
       "       'Aircraft.Category', 'Registration.Number', 'Make', 'Model',\n",
       "       'Amateur.Built', 'Number.of.Engines', 'Engine.Type', 'FAR.Description',\n",
       "       'Schedule', 'Purpose.of.flight', 'Air.carrier', 'Total.Fatal.Injuries',\n",
       "       'Total.Serious.Injuries', 'Total.Minor.Injuries', 'Total.Uninjured',\n",
       "       'Weather.Condition', 'Broad.phase.of.flight', 'Report.Status',\n",
       "       'Publication.Date'],\n",
       "      dtype='object')"
      ]
     },
     "execution_count": 6,
     "metadata": {},
     "output_type": "execute_result"
    }
   ],
   "source": [
    "df.columns"
   ]
  },
  {
   "cell_type": "code",
   "execution_count": 7,
   "id": "3f0aeee0-2839-481b-83c2-95a89149b35d",
   "metadata": {},
   "outputs": [
    {
     "data": {
      "text/plain": [
       "Index(['Event_Id', 'Investigation_Type', 'Accident_Number', 'Event_Date',\n",
       "       'Location', 'Country', 'Latitude', 'Longitude', 'Airport_Code',\n",
       "       'Airport_Name', 'Injury_Severity', 'Aircraft_damage',\n",
       "       'Aircraft_Category', 'Registration_Number', 'Make', 'Model',\n",
       "       'Amateur_Built', 'Number_of_Engines', 'Engine_Type', 'FAR_Description',\n",
       "       'Schedule', 'Purpose_of_flight', 'Air_carrier', 'Total_Fatal_Injuries',\n",
       "       'Total_Serious_Injuries', 'Total_Minor_Injuries', 'Total_Uninjured',\n",
       "       'Weather_Condition', 'Broad_phase_of_flight', 'Report_Status',\n",
       "       'Publication_Date'],\n",
       "      dtype='object')"
      ]
     },
     "execution_count": 7,
     "metadata": {},
     "output_type": "execute_result"
    }
   ],
   "source": [
    "df.columns = [col.replace(\".\", \"_\") for col in df.columns]\n",
    "df.columns"
   ]
  },
  {
   "cell_type": "code",
   "execution_count": 8,
   "id": "c308af5f-1633-440f-b1f5-f30bb851e834",
   "metadata": {},
   "outputs": [
    {
     "data": {
      "text/plain": [
       "Aircraft_damage\n",
       "Substantial    64148\n",
       "Destroyed      18623\n",
       "Minor           2805\n",
       "Unknown          119\n",
       "Name: count, dtype: int64"
      ]
     },
     "execution_count": 8,
     "metadata": {},
     "output_type": "execute_result"
    }
   ],
   "source": [
    "df['Aircraft_damage'].value_counts()"
   ]
  },
  {
   "cell_type": "code",
   "execution_count": 9,
   "id": "77782662-d07b-4316-b9a6-4c7791daf0dc",
   "metadata": {},
   "outputs": [
    {
     "data": {
      "text/plain": [
       "Injury_Severity\n",
       "Non-Fatal     67357\n",
       "Fatal(1)       6167\n",
       "Fatal          5262\n",
       "Fatal(2)       3711\n",
       "Incident       2219\n",
       "              ...  \n",
       "Fatal(270)        1\n",
       "Fatal(60)         1\n",
       "Fatal(43)         1\n",
       "Fatal(143)        1\n",
       "Fatal(230)        1\n",
       "Name: count, Length: 109, dtype: int64"
      ]
     },
     "execution_count": 9,
     "metadata": {},
     "output_type": "execute_result"
    }
   ],
   "source": [
    "df['Injury_Severity'].value_counts()"
   ]
  },
  {
   "cell_type": "code",
   "execution_count": 10,
   "id": "fa7a39f2-1c6d-4b13-a94f-8c8451b3f72f",
   "metadata": {},
   "outputs": [
    {
     "data": {
      "text/plain": [
       "Aircraft_Category\n",
       "Airplane             27617\n",
       "Helicopter            3440\n",
       "Glider                 508\n",
       "Balloon                231\n",
       "Gyrocraft              173\n",
       "Weight-Shift           161\n",
       "Powered Parachute       91\n",
       "Ultralight              30\n",
       "Unknown                 14\n",
       "WSFT                     9\n",
       "Powered-Lift             5\n",
       "Blimp                    4\n",
       "UNK                      2\n",
       "Rocket                   1\n",
       "ULTR                     1\n",
       "Name: count, dtype: int64"
      ]
     },
     "execution_count": 10,
     "metadata": {},
     "output_type": "execute_result"
    }
   ],
   "source": [
    "df['Aircraft_Category'].value_counts()"
   ]
  },
  {
   "cell_type": "code",
   "execution_count": 11,
   "id": "2a12117f-6a9e-42d2-8747-1b02958870f8",
   "metadata": {},
   "outputs": [
    {
     "data": {
      "text/plain": [
       "Make\n",
       "Cessna             22227\n",
       "Piper              12029\n",
       "CESSNA              4922\n",
       "Beech               4330\n",
       "PIPER               2841\n",
       "                   ...  \n",
       "Leonard Walters        1\n",
       "Maule Air Inc.         1\n",
       "Motley Vans            1\n",
       "Perlick                1\n",
       "ROYSE RALPH L          1\n",
       "Name: count, Length: 8237, dtype: int64"
      ]
     },
     "execution_count": 11,
     "metadata": {},
     "output_type": "execute_result"
    }
   ],
   "source": [
    "df['Make'].value_counts()"
   ]
  },
  {
   "cell_type": "code",
   "execution_count": 12,
   "id": "823d4e37-f756-4357-93c1-9ca178ae7a93",
   "metadata": {},
   "outputs": [
    {
     "data": {
      "text/plain": [
       "Model\n",
       "152              2367\n",
       "172              1756\n",
       "172N             1164\n",
       "PA-28-140         932\n",
       "150               829\n",
       "                 ... \n",
       "GC-1-A              1\n",
       "737-3S3             1\n",
       "MBB-BK117-B2        1\n",
       "GLASSAIR GL25       1\n",
       "M-8 EAGLE           1\n",
       "Name: count, Length: 12318, dtype: int64"
      ]
     },
     "execution_count": 12,
     "metadata": {},
     "output_type": "execute_result"
    }
   ],
   "source": [
    "df['Model'].value_counts()"
   ]
  },
  {
   "cell_type": "code",
   "execution_count": 13,
   "id": "b1a4974d-f74a-4a45-bd7e-f54b32def435",
   "metadata": {},
   "outputs": [
    {
     "data": {
      "text/plain": [
       "Purpose_of_flight\n",
       "Personal                     49448\n",
       "Instructional                10601\n",
       "Unknown                       6802\n",
       "Aerial Application            4712\n",
       "Business                      4018\n",
       "Positioning                   1646\n",
       "Other Work Use                1264\n",
       "Ferry                          812\n",
       "Aerial Observation             794\n",
       "Public Aircraft                720\n",
       "Executive/corporate            553\n",
       "Flight Test                    405\n",
       "Skydiving                      182\n",
       "External Load                  123\n",
       "Public Aircraft - Federal      105\n",
       "Banner Tow                     101\n",
       "Air Race show                   99\n",
       "Public Aircraft - Local         74\n",
       "Public Aircraft - State         64\n",
       "Air Race/show                   59\n",
       "Glider Tow                      53\n",
       "Firefighting                    40\n",
       "Air Drop                        11\n",
       "ASHO                             6\n",
       "PUBS                             4\n",
       "PUBL                             1\n",
       "Name: count, dtype: int64"
      ]
     },
     "execution_count": 13,
     "metadata": {},
     "output_type": "execute_result"
    }
   ],
   "source": [
    "df['Purpose_of_flight'].value_counts()"
   ]
  },
  {
   "cell_type": "code",
   "execution_count": 14,
   "id": "67d26b4e-382e-422e-a229-09ae002bde51",
   "metadata": {},
   "outputs": [
    {
     "data": {
      "text/plain": [
       "Weather_Condition\n",
       "VMC    77303\n",
       "IMC     5976\n",
       "UNK      856\n",
       "Unk      262\n",
       "Name: count, dtype: int64"
      ]
     },
     "execution_count": 14,
     "metadata": {},
     "output_type": "execute_result"
    }
   ],
   "source": [
    "df['Weather_Condition'].value_counts()"
   ]
  },
  {
   "cell_type": "code",
   "execution_count": 15,
   "id": "ec07b226-1060-4a48-be6e-eed817fe53b1",
   "metadata": {},
   "outputs": [
    {
     "data": {
      "text/plain": [
       "Broad_phase_of_flight\n",
       "Landing        15428\n",
       "Takeoff        12493\n",
       "Cruise         10269\n",
       "Maneuvering     8144\n",
       "Approach        6546\n",
       "Climb           2034\n",
       "Taxi            1958\n",
       "Descent         1887\n",
       "Go-around       1353\n",
       "Standing         945\n",
       "Unknown          548\n",
       "Other            119\n",
       "Name: count, dtype: int64"
      ]
     },
     "execution_count": 15,
     "metadata": {},
     "output_type": "execute_result"
    }
   ],
   "source": [
    "df['Broad_phase_of_flight'].value_counts()"
   ]
  },
  {
   "cell_type": "code",
   "execution_count": 16,
   "id": "fc18c33f-3990-45c1-8e30-95f41b06990d",
   "metadata": {},
   "outputs": [
    {
     "data": {
      "text/plain": [
       "Amateur_Built\n",
       "No     80312\n",
       "Yes     8475\n",
       "Name: count, dtype: int64"
      ]
     },
     "execution_count": 16,
     "metadata": {},
     "output_type": "execute_result"
    }
   ],
   "source": [
    "df['Amateur_Built'].value_counts()"
   ]
  },
  {
   "cell_type": "code",
   "execution_count": 17,
   "id": "f7a7d185-d4d4-4a09-a506-5979741bda9a",
   "metadata": {},
   "outputs": [
    {
     "data": {
      "text/plain": [
       "array(['No', 'Yes', nan], dtype=object)"
      ]
     },
     "execution_count": 17,
     "metadata": {},
     "output_type": "execute_result"
    }
   ],
   "source": [
    "df['Amateur_Built'].unique()"
   ]
  },
  {
   "cell_type": "markdown",
   "id": "d5071834-4737-4851-99df-583cfa382ade",
   "metadata": {},
   "source": [
    "## 3. Data Cleaning and Filtering"
   ]
  },
  {
   "cell_type": "code",
   "execution_count": 18,
   "id": "d458a17b-8eca-448c-a072-194156b446b9",
   "metadata": {},
   "outputs": [
    {
     "data": {
      "text/html": [
       "<div>\n",
       "<style scoped>\n",
       "    .dataframe tbody tr th:only-of-type {\n",
       "        vertical-align: middle;\n",
       "    }\n",
       "\n",
       "    .dataframe tbody tr th {\n",
       "        vertical-align: top;\n",
       "    }\n",
       "\n",
       "    .dataframe thead th {\n",
       "        text-align: right;\n",
       "    }\n",
       "</style>\n",
       "<table border=\"1\" class=\"dataframe\">\n",
       "  <thead>\n",
       "    <tr style=\"text-align: right;\">\n",
       "      <th></th>\n",
       "      <th>Event_Id</th>\n",
       "      <th>Investigation_Type</th>\n",
       "      <th>Accident_Number</th>\n",
       "      <th>Event_Date</th>\n",
       "      <th>Location</th>\n",
       "      <th>Country</th>\n",
       "      <th>Latitude</th>\n",
       "      <th>Longitude</th>\n",
       "      <th>Airport_Code</th>\n",
       "      <th>Airport_Name</th>\n",
       "      <th>...</th>\n",
       "      <th>Purpose_of_flight</th>\n",
       "      <th>Air_carrier</th>\n",
       "      <th>Total_Fatal_Injuries</th>\n",
       "      <th>Total_Serious_Injuries</th>\n",
       "      <th>Total_Minor_Injuries</th>\n",
       "      <th>Total_Uninjured</th>\n",
       "      <th>Weather_Condition</th>\n",
       "      <th>Broad_phase_of_flight</th>\n",
       "      <th>Report_Status</th>\n",
       "      <th>Publication_Date</th>\n",
       "    </tr>\n",
       "  </thead>\n",
       "  <tbody>\n",
       "    <tr>\n",
       "      <th>5</th>\n",
       "      <td>20170710X52551</td>\n",
       "      <td>Accident</td>\n",
       "      <td>NYC79AA106</td>\n",
       "      <td>1979-09-17</td>\n",
       "      <td>BOSTON, MA</td>\n",
       "      <td>United States</td>\n",
       "      <td>42.445277</td>\n",
       "      <td>-70.758333</td>\n",
       "      <td>NaN</td>\n",
       "      <td>NaN</td>\n",
       "      <td>...</td>\n",
       "      <td>NaN</td>\n",
       "      <td>Air Canada</td>\n",
       "      <td>NaN</td>\n",
       "      <td>NaN</td>\n",
       "      <td>1.0</td>\n",
       "      <td>44.0</td>\n",
       "      <td>VMC</td>\n",
       "      <td>Climb</td>\n",
       "      <td>Probable Cause</td>\n",
       "      <td>19-09-2017</td>\n",
       "    </tr>\n",
       "    <tr>\n",
       "      <th>7</th>\n",
       "      <td>20020909X01562</td>\n",
       "      <td>Accident</td>\n",
       "      <td>SEA82DA022</td>\n",
       "      <td>1982-01-01</td>\n",
       "      <td>PULLMAN, WA</td>\n",
       "      <td>United States</td>\n",
       "      <td>NaN</td>\n",
       "      <td>NaN</td>\n",
       "      <td>NaN</td>\n",
       "      <td>BLACKBURN AG STRIP</td>\n",
       "      <td>...</td>\n",
       "      <td>Personal</td>\n",
       "      <td>NaN</td>\n",
       "      <td>0.0</td>\n",
       "      <td>0.0</td>\n",
       "      <td>0.0</td>\n",
       "      <td>2.0</td>\n",
       "      <td>VMC</td>\n",
       "      <td>Takeoff</td>\n",
       "      <td>Probable Cause</td>\n",
       "      <td>01-01-1982</td>\n",
       "    </tr>\n",
       "    <tr>\n",
       "      <th>8</th>\n",
       "      <td>20020909X01561</td>\n",
       "      <td>Accident</td>\n",
       "      <td>NYC82DA015</td>\n",
       "      <td>1982-01-01</td>\n",
       "      <td>EAST HANOVER, NJ</td>\n",
       "      <td>United States</td>\n",
       "      <td>NaN</td>\n",
       "      <td>NaN</td>\n",
       "      <td>N58</td>\n",
       "      <td>HANOVER</td>\n",
       "      <td>...</td>\n",
       "      <td>Business</td>\n",
       "      <td>NaN</td>\n",
       "      <td>0.0</td>\n",
       "      <td>0.0</td>\n",
       "      <td>0.0</td>\n",
       "      <td>2.0</td>\n",
       "      <td>IMC</td>\n",
       "      <td>Landing</td>\n",
       "      <td>Probable Cause</td>\n",
       "      <td>01-01-1982</td>\n",
       "    </tr>\n",
       "    <tr>\n",
       "      <th>12</th>\n",
       "      <td>20020917X02148</td>\n",
       "      <td>Accident</td>\n",
       "      <td>FTW82FRJ07</td>\n",
       "      <td>1982-01-02</td>\n",
       "      <td>HOMER, LA</td>\n",
       "      <td>United States</td>\n",
       "      <td>NaN</td>\n",
       "      <td>NaN</td>\n",
       "      <td>NaN</td>\n",
       "      <td>NaN</td>\n",
       "      <td>...</td>\n",
       "      <td>Personal</td>\n",
       "      <td>NaN</td>\n",
       "      <td>0.0</td>\n",
       "      <td>0.0</td>\n",
       "      <td>1.0</td>\n",
       "      <td>0.0</td>\n",
       "      <td>IMC</td>\n",
       "      <td>Cruise</td>\n",
       "      <td>Probable Cause</td>\n",
       "      <td>02-01-1983</td>\n",
       "    </tr>\n",
       "    <tr>\n",
       "      <th>13</th>\n",
       "      <td>20020917X02134</td>\n",
       "      <td>Accident</td>\n",
       "      <td>FTW82FRA14</td>\n",
       "      <td>1982-01-02</td>\n",
       "      <td>HEARNE, TX</td>\n",
       "      <td>United States</td>\n",
       "      <td>NaN</td>\n",
       "      <td>NaN</td>\n",
       "      <td>T72</td>\n",
       "      <td>HEARNE MUNICIPAL</td>\n",
       "      <td>...</td>\n",
       "      <td>Personal</td>\n",
       "      <td>NaN</td>\n",
       "      <td>1.0</td>\n",
       "      <td>0.0</td>\n",
       "      <td>0.0</td>\n",
       "      <td>0.0</td>\n",
       "      <td>IMC</td>\n",
       "      <td>Takeoff</td>\n",
       "      <td>Probable Cause</td>\n",
       "      <td>02-01-1983</td>\n",
       "    </tr>\n",
       "    <tr>\n",
       "      <th>...</th>\n",
       "      <td>...</td>\n",
       "      <td>...</td>\n",
       "      <td>...</td>\n",
       "      <td>...</td>\n",
       "      <td>...</td>\n",
       "      <td>...</td>\n",
       "      <td>...</td>\n",
       "      <td>...</td>\n",
       "      <td>...</td>\n",
       "      <td>...</td>\n",
       "      <td>...</td>\n",
       "      <td>...</td>\n",
       "      <td>...</td>\n",
       "      <td>...</td>\n",
       "      <td>...</td>\n",
       "      <td>...</td>\n",
       "      <td>...</td>\n",
       "      <td>...</td>\n",
       "      <td>...</td>\n",
       "      <td>...</td>\n",
       "      <td>...</td>\n",
       "    </tr>\n",
       "    <tr>\n",
       "      <th>90328</th>\n",
       "      <td>20221213106455</td>\n",
       "      <td>Accident</td>\n",
       "      <td>WPR23LA065</td>\n",
       "      <td>2022-12-13</td>\n",
       "      <td>Lewistown, MT</td>\n",
       "      <td>United States</td>\n",
       "      <td>047257N</td>\n",
       "      <td>0109280W</td>\n",
       "      <td>KLWT</td>\n",
       "      <td>Lewiston Municipal Airport</td>\n",
       "      <td>...</td>\n",
       "      <td>NaN</td>\n",
       "      <td>NaN</td>\n",
       "      <td>0.0</td>\n",
       "      <td>0.0</td>\n",
       "      <td>0.0</td>\n",
       "      <td>1.0</td>\n",
       "      <td>NaN</td>\n",
       "      <td>NaN</td>\n",
       "      <td>NaN</td>\n",
       "      <td>14-12-2022</td>\n",
       "    </tr>\n",
       "    <tr>\n",
       "      <th>90332</th>\n",
       "      <td>20221215106463</td>\n",
       "      <td>Accident</td>\n",
       "      <td>ERA23LA090</td>\n",
       "      <td>2022-12-14</td>\n",
       "      <td>San Juan, PR</td>\n",
       "      <td>United States</td>\n",
       "      <td>182724N</td>\n",
       "      <td>0066554W</td>\n",
       "      <td>SIG</td>\n",
       "      <td>FERNANDO LUIS RIBAS DOMINICCI</td>\n",
       "      <td>...</td>\n",
       "      <td>Personal</td>\n",
       "      <td>SKY WEST AVIATION INC TRUSTEE</td>\n",
       "      <td>0.0</td>\n",
       "      <td>0.0</td>\n",
       "      <td>0.0</td>\n",
       "      <td>1.0</td>\n",
       "      <td>VMC</td>\n",
       "      <td>NaN</td>\n",
       "      <td>NaN</td>\n",
       "      <td>27-12-2022</td>\n",
       "    </tr>\n",
       "    <tr>\n",
       "      <th>90335</th>\n",
       "      <td>20221219106475</td>\n",
       "      <td>Accident</td>\n",
       "      <td>WPR23LA069</td>\n",
       "      <td>2022-12-15</td>\n",
       "      <td>Wichita, KS</td>\n",
       "      <td>United States</td>\n",
       "      <td>373829N</td>\n",
       "      <td>0972635W</td>\n",
       "      <td>ICT</td>\n",
       "      <td>WICHITA DWIGHT D EISENHOWER NT</td>\n",
       "      <td>...</td>\n",
       "      <td>NaN</td>\n",
       "      <td>NaN</td>\n",
       "      <td>0.0</td>\n",
       "      <td>0.0</td>\n",
       "      <td>0.0</td>\n",
       "      <td>1.0</td>\n",
       "      <td>NaN</td>\n",
       "      <td>NaN</td>\n",
       "      <td>NaN</td>\n",
       "      <td>19-12-2022</td>\n",
       "    </tr>\n",
       "    <tr>\n",
       "      <th>90336</th>\n",
       "      <td>20221219106470</td>\n",
       "      <td>Accident</td>\n",
       "      <td>ERA23LA091</td>\n",
       "      <td>2022-12-16</td>\n",
       "      <td>Brooksville, FL</td>\n",
       "      <td>United States</td>\n",
       "      <td>282825N</td>\n",
       "      <td>0822719W</td>\n",
       "      <td>BKV</td>\n",
       "      <td>BROOKSVILLE-TAMPA BAY RGNL</td>\n",
       "      <td>...</td>\n",
       "      <td>Personal</td>\n",
       "      <td>GERBER RICHARD E</td>\n",
       "      <td>0.0</td>\n",
       "      <td>1.0</td>\n",
       "      <td>0.0</td>\n",
       "      <td>0.0</td>\n",
       "      <td>VMC</td>\n",
       "      <td>NaN</td>\n",
       "      <td>NaN</td>\n",
       "      <td>23-12-2022</td>\n",
       "    </tr>\n",
       "    <tr>\n",
       "      <th>90345</th>\n",
       "      <td>20221227106497</td>\n",
       "      <td>Accident</td>\n",
       "      <td>WPR23LA075</td>\n",
       "      <td>2022-12-26</td>\n",
       "      <td>Payson, AZ</td>\n",
       "      <td>United States</td>\n",
       "      <td>341525N</td>\n",
       "      <td>1112021W</td>\n",
       "      <td>PAN</td>\n",
       "      <td>PAYSON</td>\n",
       "      <td>...</td>\n",
       "      <td>Personal</td>\n",
       "      <td>NaN</td>\n",
       "      <td>0.0</td>\n",
       "      <td>0.0</td>\n",
       "      <td>0.0</td>\n",
       "      <td>1.0</td>\n",
       "      <td>VMC</td>\n",
       "      <td>NaN</td>\n",
       "      <td>NaN</td>\n",
       "      <td>27-12-2022</td>\n",
       "    </tr>\n",
       "  </tbody>\n",
       "</table>\n",
       "<p>24434 rows × 31 columns</p>\n",
       "</div>"
      ],
      "text/plain": [
       "             Event_Id Investigation_Type Accident_Number  Event_Date  \\\n",
       "5      20170710X52551           Accident      NYC79AA106  1979-09-17   \n",
       "7      20020909X01562           Accident      SEA82DA022  1982-01-01   \n",
       "8      20020909X01561           Accident      NYC82DA015  1982-01-01   \n",
       "12     20020917X02148           Accident      FTW82FRJ07  1982-01-02   \n",
       "13     20020917X02134           Accident      FTW82FRA14  1982-01-02   \n",
       "...               ...                ...             ...         ...   \n",
       "90328  20221213106455           Accident      WPR23LA065  2022-12-13   \n",
       "90332  20221215106463           Accident      ERA23LA090  2022-12-14   \n",
       "90335  20221219106475           Accident      WPR23LA069  2022-12-15   \n",
       "90336  20221219106470           Accident      ERA23LA091  2022-12-16   \n",
       "90345  20221227106497           Accident      WPR23LA075  2022-12-26   \n",
       "\n",
       "               Location        Country   Latitude   Longitude Airport_Code  \\\n",
       "5            BOSTON, MA  United States  42.445277  -70.758333          NaN   \n",
       "7           PULLMAN, WA  United States        NaN         NaN          NaN   \n",
       "8      EAST HANOVER, NJ  United States        NaN         NaN          N58   \n",
       "12            HOMER, LA  United States        NaN         NaN          NaN   \n",
       "13           HEARNE, TX  United States        NaN         NaN          T72   \n",
       "...                 ...            ...        ...         ...          ...   \n",
       "90328     Lewistown, MT  United States    047257N    0109280W         KLWT   \n",
       "90332      San Juan, PR  United States    182724N    0066554W          SIG   \n",
       "90335       Wichita, KS  United States    373829N    0972635W          ICT   \n",
       "90336   Brooksville, FL  United States    282825N    0822719W          BKV   \n",
       "90345        Payson, AZ  United States    341525N    1112021W          PAN   \n",
       "\n",
       "                         Airport_Name  ... Purpose_of_flight  \\\n",
       "5                                 NaN  ...               NaN   \n",
       "7                  BLACKBURN AG STRIP  ...          Personal   \n",
       "8                             HANOVER  ...          Business   \n",
       "12                                NaN  ...          Personal   \n",
       "13                   HEARNE MUNICIPAL  ...          Personal   \n",
       "...                               ...  ...               ...   \n",
       "90328      Lewiston Municipal Airport  ...               NaN   \n",
       "90332   FERNANDO LUIS RIBAS DOMINICCI  ...          Personal   \n",
       "90335  WICHITA DWIGHT D EISENHOWER NT  ...               NaN   \n",
       "90336      BROOKSVILLE-TAMPA BAY RGNL  ...          Personal   \n",
       "90345                          PAYSON  ...          Personal   \n",
       "\n",
       "                         Air_carrier Total_Fatal_Injuries  \\\n",
       "5                         Air Canada                  NaN   \n",
       "7                                NaN                  0.0   \n",
       "8                                NaN                  0.0   \n",
       "12                               NaN                  0.0   \n",
       "13                               NaN                  1.0   \n",
       "...                              ...                  ...   \n",
       "90328                            NaN                  0.0   \n",
       "90332  SKY WEST AVIATION INC TRUSTEE                  0.0   \n",
       "90335                            NaN                  0.0   \n",
       "90336               GERBER RICHARD E                  0.0   \n",
       "90345                            NaN                  0.0   \n",
       "\n",
       "      Total_Serious_Injuries Total_Minor_Injuries Total_Uninjured  \\\n",
       "5                        NaN                  1.0            44.0   \n",
       "7                        0.0                  0.0             2.0   \n",
       "8                        0.0                  0.0             2.0   \n",
       "12                       0.0                  1.0             0.0   \n",
       "13                       0.0                  0.0             0.0   \n",
       "...                      ...                  ...             ...   \n",
       "90328                    0.0                  0.0             1.0   \n",
       "90332                    0.0                  0.0             1.0   \n",
       "90335                    0.0                  0.0             1.0   \n",
       "90336                    1.0                  0.0             0.0   \n",
       "90345                    0.0                  0.0             1.0   \n",
       "\n",
       "      Weather_Condition  Broad_phase_of_flight   Report_Status  \\\n",
       "5                   VMC                  Climb  Probable Cause   \n",
       "7                   VMC                Takeoff  Probable Cause   \n",
       "8                   IMC                Landing  Probable Cause   \n",
       "12                  IMC                 Cruise  Probable Cause   \n",
       "13                  IMC                Takeoff  Probable Cause   \n",
       "...                 ...                    ...             ...   \n",
       "90328               NaN                    NaN             NaN   \n",
       "90332               VMC                    NaN             NaN   \n",
       "90335               NaN                    NaN             NaN   \n",
       "90336               VMC                    NaN             NaN   \n",
       "90345               VMC                    NaN             NaN   \n",
       "\n",
       "      Publication_Date  \n",
       "5           19-09-2017  \n",
       "7           01-01-1982  \n",
       "8           01-01-1982  \n",
       "12          02-01-1983  \n",
       "13          02-01-1983  \n",
       "...                ...  \n",
       "90328       14-12-2022  \n",
       "90332       27-12-2022  \n",
       "90335       19-12-2022  \n",
       "90336       23-12-2022  \n",
       "90345       27-12-2022  \n",
       "\n",
       "[24434 rows x 31 columns]"
      ]
     },
     "execution_count": 18,
     "metadata": {},
     "output_type": "execute_result"
    }
   ],
   "source": [
    "# Filtering out only airplanes \n",
    "# The business problem mentions \"airplanes for commercial and private enterprises\"\n",
    "# Also we will filter out the Amateur Built for that purpose\n",
    "df_filtered = df[df['Aircraft_Category'] == 'Airplane'].copy()\n",
    "df_filtered = df_filtered[df_filtered['Amateur_Built']!= \"Yes\"]\n",
    "df_filtered"
   ]
  },
  {
   "cell_type": "code",
   "execution_count": 19,
   "id": "13a3f3b0-ebe3-4aba-a075-deeaff8ffe23",
   "metadata": {},
   "outputs": [
    {
     "data": {
      "text/plain": [
       "Amateur_Built\n",
       "No    24417\n",
       "Name: count, dtype: int64"
      ]
     },
     "execution_count": 19,
     "metadata": {},
     "output_type": "execute_result"
    }
   ],
   "source": [
    "df_filtered['Amateur_Built'].value_counts()"
   ]
  },
  {
   "cell_type": "code",
   "execution_count": 20,
   "id": "50d35517-8995-4557-9e0b-a6d8d7b8f8ec",
   "metadata": {},
   "outputs": [
    {
     "data": {
      "text/plain": [
       "Aircraft_Category\n",
       "Airplane    24434\n",
       "Name: count, dtype: int64"
      ]
     },
     "execution_count": 20,
     "metadata": {},
     "output_type": "execute_result"
    }
   ],
   "source": [
    "df_filtered['Aircraft_Category'].value_counts()"
   ]
  },
  {
   "cell_type": "code",
   "execution_count": 21,
   "id": "cf052901-d93c-43e5-bde9-a210adced2a0",
   "metadata": {},
   "outputs": [],
   "source": [
    "# Convert Event_Date to datetime\n",
    "df_filtered['Event_Date'] = pd.to_datetime(df_filtered['Event_Date'], errors='coerce')"
   ]
  },
  {
   "cell_type": "code",
   "execution_count": 22,
   "id": "e9ac9746-8246-4477-aaf4-aa731bbf6ed7",
   "metadata": {},
   "outputs": [
    {
     "data": {
      "text/plain": [
       "False    24434\n",
       "Name: count, dtype: int64"
      ]
     },
     "execution_count": 22,
     "metadata": {},
     "output_type": "execute_result"
    }
   ],
   "source": [
    "# deal with duplicates if any\n",
    "df_filtered.duplicated().value_counts()"
   ]
  },
  {
   "cell_type": "markdown",
   "id": "d7ec8475-9c62-47e2-948a-93230699b9d0",
   "metadata": {},
   "source": [
    "#### Further cleaning on key columns\n",
    "Filling missing values in injury or damage columns is essential before performing calculations on them. \n",
    "For categorical data, some of them already have unknown as a unique variable, makes sense in this case and it will prevent errors."
   ]
  },
  {
   "cell_type": "code",
   "execution_count": 23,
   "id": "3e57dceb-ff62-4ecc-a70d-9b4a93a711c6",
   "metadata": {},
   "outputs": [
    {
     "data": {
      "text/plain": [
       "Event_Id                      0\n",
       "Investigation_Type            0\n",
       "Accident_Number               0\n",
       "Event_Date                    0\n",
       "Location                      7\n",
       "Country                       7\n",
       "Latitude                   5259\n",
       "Longitude                  5265\n",
       "Airport_Code               8948\n",
       "Airport_Name               8449\n",
       "Injury_Severity             813\n",
       "Aircraft_damage            1274\n",
       "Aircraft_Category             0\n",
       "Registration_Number         216\n",
       "Make                          3\n",
       "Model                        18\n",
       "Amateur_Built                17\n",
       "Number_of_Engines          2562\n",
       "Engine_Type                3967\n",
       "FAR_Description             480\n",
       "Schedule                  21486\n",
       "Purpose_of_flight          3695\n",
       "Air_carrier               14078\n",
       "Total_Fatal_Injuries       2779\n",
       "Total_Serious_Injuries     2862\n",
       "Total_Minor_Injuries       2578\n",
       "Total_Uninjured             729\n",
       "Weather_Condition          2990\n",
       "Broad_phase_of_flight     18635\n",
       "Report_Status              4663\n",
       "Publication_Date           2014\n",
       "dtype: int64"
      ]
     },
     "execution_count": 23,
     "metadata": {},
     "output_type": "execute_result"
    }
   ],
   "source": [
    "df_filtered.isna().sum()"
   ]
  },
  {
   "cell_type": "code",
   "execution_count": 24,
   "id": "0000f867-35ed-4967-9736-0a3629d037d6",
   "metadata": {},
   "outputs": [
    {
     "data": {
      "text/plain": [
       "count    21655.000000\n",
       "mean         0.692912\n",
       "std          6.304978\n",
       "min          0.000000\n",
       "25%          0.000000\n",
       "50%          0.000000\n",
       "75%          0.000000\n",
       "max        295.000000\n",
       "Name: Total_Fatal_Injuries, dtype: float64"
      ]
     },
     "execution_count": 24,
     "metadata": {},
     "output_type": "execute_result"
    }
   ],
   "source": [
    "df_filtered['Total_Fatal_Injuries'].describe()"
   ]
  },
  {
   "cell_type": "code",
   "execution_count": 25,
   "id": "41fa4ac7-b154-4a4e-82cd-ec01778163d0",
   "metadata": {},
   "outputs": [
    {
     "data": {
      "text/plain": [
       "count    21572.000000\n",
       "mean         0.304144\n",
       "std          2.222139\n",
       "min          0.000000\n",
       "25%          0.000000\n",
       "50%          0.000000\n",
       "75%          0.000000\n",
       "max        161.000000\n",
       "Name: Total_Serious_Injuries, dtype: float64"
      ]
     },
     "execution_count": 25,
     "metadata": {},
     "output_type": "execute_result"
    }
   ],
   "source": [
    "df_filtered['Total_Serious_Injuries'].describe()"
   ]
  },
  {
   "cell_type": "code",
   "execution_count": 26,
   "id": "b270236b-e0e2-457f-95b4-f7e88b748ece",
   "metadata": {},
   "outputs": [
    {
     "data": {
      "text/plain": [
       "count    21856.000000\n",
       "mean         0.237875\n",
       "std          1.689570\n",
       "min          0.000000\n",
       "25%          0.000000\n",
       "50%          0.000000\n",
       "75%          0.000000\n",
       "max        200.000000\n",
       "Name: Total_Minor_Injuries, dtype: float64"
      ]
     },
     "execution_count": 26,
     "metadata": {},
     "output_type": "execute_result"
    }
   ],
   "source": [
    "df_filtered['Total_Minor_Injuries'].describe()"
   ]
  },
  {
   "cell_type": "code",
   "execution_count": 27,
   "id": "fe21bba1-27de-46c9-b998-4c1d062967f8",
   "metadata": {},
   "outputs": [
    {
     "data": {
      "text/plain": [
       "count    23705.000000\n",
       "mean         7.080574\n",
       "std         33.725437\n",
       "min          0.000000\n",
       "25%          0.000000\n",
       "50%          1.000000\n",
       "75%          2.000000\n",
       "max        588.000000\n",
       "Name: Total_Uninjured, dtype: float64"
      ]
     },
     "execution_count": 27,
     "metadata": {},
     "output_type": "execute_result"
    }
   ],
   "source": [
    "df_filtered['Total_Uninjured'].describe()"
   ]
  },
  {
   "cell_type": "code",
   "execution_count": 28,
   "id": "69baea9c-0ed2-4c45-8999-aeced439ee02",
   "metadata": {},
   "outputs": [],
   "source": [
    "# Fill missing injury/damage values with 0 or a sensible default\n",
    "injury_cols = ['Total_Fatal_Injuries', 'Total_Serious_Injuries', 'Total_Minor_Injuries', 'Total_Uninjured']\n",
    "for col in injury_cols:\n",
    "    df_filtered[col] = df_filtered[col].fillna(0).astype(int)"
   ]
  },
  {
   "cell_type": "code",
   "execution_count": 29,
   "id": "0c84944c-782d-4575-8205-1d9b0fcdb63f",
   "metadata": {},
   "outputs": [],
   "source": [
    "# filling the missing values of the categorical data  with 'unknown'\n",
    "aircraft_related_cols = ['Injury_Severity', 'Aircraft_damage', 'Make', 'Model', 'Amateur_Built',\n",
    "       'Weather_Condition', 'Broad_phase_of_flight']"
   ]
  },
  {
   "cell_type": "code",
   "execution_count": 30,
   "id": "00318d39-4543-4d86-90ba-1c91fc17a6ee",
   "metadata": {},
   "outputs": [],
   "source": [
    "for cols in aircraft_related_cols:\n",
    "    df_filtered[cols] = df_filtered[cols].fillna('Unknown')"
   ]
  },
  {
   "cell_type": "markdown",
   "id": "65221c08-0504-4cc4-9b78-0d99700a0767",
   "metadata": {},
   "source": [
    "# 4. Analyze Key Risk Factors\n",
    "## Accident Rates by Make and Model\n",
    "This is fundamental. In order to know which aircraft types are involved in more incidents."
   ]
  },
  {
   "cell_type": "code",
   "execution_count": 31,
   "id": "12101827-79eb-41c9-b299-6d47561c0c43",
   "metadata": {},
   "outputs": [
    {
     "data": {
      "text/plain": [
       "Make\n",
       "CESSNA                4867\n",
       "Cessna                3578\n",
       "PIPER                 2803\n",
       "Piper                 1901\n",
       "BOEING                1037\n",
       "BEECH                 1018\n",
       "Beech                  667\n",
       "Boeing                 278\n",
       "MOONEY                 238\n",
       "CIRRUS DESIGN CORP     218\n",
       "AIR TRACTOR INC        217\n",
       "AIRBUS                 215\n",
       "Mooney                 179\n",
       "Grumman                172\n",
       "BELLANCA               158\n",
       "AERONCA                149\n",
       "MAULE                  144\n",
       "Air Tractor            135\n",
       "EMBRAER                123\n",
       "Bellanca               123\n",
       "Name: count, dtype: int64"
      ]
     },
     "execution_count": 31,
     "metadata": {},
     "output_type": "execute_result"
    }
   ],
   "source": [
    "#Investigating the unique counts of make and model\n",
    "df_filtered['Make'].value_counts().head(20)"
   ]
  },
  {
   "cell_type": "code",
   "execution_count": 32,
   "id": "84ed9216-729c-45f6-8a71-a50dd816fd9f",
   "metadata": {},
   "outputs": [],
   "source": [
    "df_filtered['Make'] = df_filtered['Make'].str.title()"
   ]
  },
  {
   "cell_type": "code",
   "execution_count": 33,
   "id": "44046b65-4778-4793-a505-68f9808c862e",
   "metadata": {},
   "outputs": [
    {
     "data": {
      "text/plain": [
       "Make\n",
       "Cessna                8445\n",
       "Piper                 4704\n",
       "Beech                 1685\n",
       "Boeing                1315\n",
       "Mooney                 417\n",
       "Bellanca               281\n",
       "Grumman                249\n",
       "Airbus                 244\n",
       "Maule                  232\n",
       "Aeronca                227\n",
       "Air Tractor            224\n",
       "Cirrus Design Corp     220\n",
       "Air Tractor Inc        219\n",
       "Champion               169\n",
       "Luscombe               163\n",
       "Embraer                155\n",
       "Stinson                145\n",
       "Cirrus                 137\n",
       "North American         118\n",
       "Mcdonnell Douglas      113\n",
       "Name: count, dtype: int64"
      ]
     },
     "execution_count": 33,
     "metadata": {},
     "output_type": "execute_result"
    }
   ],
   "source": [
    "# Asserting that we dont have the same make with different spellings\n",
    "df_filtered['Make'].value_counts().head(20)"
   ]
  },
  {
   "cell_type": "code",
   "execution_count": 34,
   "id": "ac2234e2-8643-4680-947e-27c1235a9a30",
   "metadata": {},
   "outputs": [
    {
     "data": {
      "text/plain": [
       "Make\n",
       "Cessna      8445\n",
       "Piper       4704\n",
       "Beech       1685\n",
       "Boeing      1315\n",
       "Mooney       417\n",
       "Bellanca     281\n",
       "Grumman      249\n",
       "Airbus       244\n",
       "Maule        232\n",
       "Aeronca      227\n",
       "Name: count, dtype: int64"
      ]
     },
     "execution_count": 34,
     "metadata": {},
     "output_type": "execute_result"
    }
   ],
   "source": [
    "make_incidents = df_filtered['Make'].value_counts().head(10)\n",
    "make_incidents"
   ]
  },
  {
   "cell_type": "code",
   "execution_count": 35,
   "id": "390b1945-de90-4974-a8d8-7873e5649db3",
   "metadata": {},
   "outputs": [
    {
     "name": "stdout",
     "output_type": "stream",
     "text": [
      "\n",
      "--- A. Top 10 Aircraft Makes by Incident Count ---\n",
      "Make\n",
      "Cessna      8445\n",
      "Piper       4704\n",
      "Beech       1685\n",
      "Boeing      1315\n",
      "Mooney       417\n",
      "Bellanca     281\n",
      "Grumman      249\n",
      "Airbus       244\n",
      "Maule        232\n",
      "Aeronca      227\n",
      "Name: count, dtype: int64\n"
     ]
    },
    {
     "data": {
      "image/png": "[encoded data removed]",
      "text/plain": [
       "<Figure size 1200x600 with 1 Axes>"
      ]
     },
     "metadata": {},
     "output_type": "display_data"
    }
   ],
   "source": [
    "# A. Accident Rates by Make and Model\n",
    "# This is fundamental. We need to know which aircraft types are involved in more incidents.\n",
    "# Note: Without total fleet size/flight hours, this is a count of incidents, not a true rate.\n",
    "# However, a higher count still implies higher exposure to incidents in this dataset.\n",
    "\n",
    "print(\"\\n--- A. Top 10 Aircraft Makes by Incident Count ---\")\n",
    "make_incidents = df_filtered['Make'].value_counts().head(10)\n",
    "print(make_incidents)\n",
    "\n",
    "plt.figure(figsize=(12, 6))\n",
    "sns.barplot(x=make_incidents.values, y=make_incidents.index, hue=make_incidents.index, palette='viridis', legend=False)\n",
    "plt.title('Top 10 Aircraft Makes by Incident Count (Aircraft Category: Airplane)')\n",
    "plt.xlabel('Number of Incidents')\n",
    "plt.ylabel('Aircraft Make')\n",
    "plt.show()"
   ]
  },
  {
   "cell_type": "code",
   "execution_count": 36,
   "id": "f458959b-160b-46a1-a342-3d45102d6603",
   "metadata": {},
   "outputs": [
    {
     "name": "stdout",
     "output_type": "stream",
     "text": [
      "\n",
      "--- B. Top 10 Aircraft Models by Incident Count (Requires filtering by Make) ---\n",
      "Top 10 Models for Cessna:\n",
      "Model\n",
      "172     866\n",
      "152     448\n",
      "182     344\n",
      "172N    314\n",
      "172S    276\n",
      "150     255\n",
      "180     237\n",
      "172M    217\n",
      "172P    167\n",
      "140     132\n",
      "Name: count, dtype: int64\n"
     ]
    },
    {
     "data": {
      "image/png": "[encoded data removed]",
      "text/plain": [
       "<Figure size 1200x600 with 1 Axes>"
      ]
     },
     "metadata": {},
     "output_type": "display_data"
    }
   ],
   "source": [
    "print(\"\\n--- B. Top 10 Aircraft Models by Incident Count (Requires filtering by Make) ---\")\n",
    "# Example: Let's look at models for the top make (e.g., CESSNA)\n",
    "top_make = make_incidents.index[0] # Get the most frequent make\n",
    "model_incidents = df_filtered[df_filtered['Make'] == top_make]['Model'].value_counts().head(10)\n",
    "print(f\"Top 10 Models for {top_make}:\")\n",
    "print(model_incidents)\n",
    "\n",
    "plt.figure(figsize=(12, 6))\n",
    "sns.barplot(x=model_incidents.values, y=model_incidents.index, hue=make_incidents.index, palette='viridis', legend=False)\n",
    "plt.title(f'Top 10 Aircraft Models by Incident Count for {top_make} (Aircraft Category: Airplane)')\n",
    "plt.xlabel('Number of Incidents')\n",
    "plt.ylabel('Aircraft Model')\n",
    "plt.show()"
   ]
  },
  {
   "cell_type": "code",
   "execution_count": 42,
   "id": "2c4872de-c8f3-45b6-8f98-0fb81d42cac3",
   "metadata": {},
   "outputs": [
    {
     "data": {
      "image/png": "[encoded data removed]",
      "text/plain": [
       "<Figure size 1200x600 with 1 Axes>"
      ]
     },
     "metadata": {},
     "output_type": "display_data"
    }
   ],
   "source": [
    "top_make_1 = make_incidents.index[1] # Get the most frequent make\n",
    "model_incidents = df_filtered[df_filtered['Make'] == top_make_1]['Model'].value_counts().head(10)\n",
    "\n",
    "\n",
    "plt.figure(figsize=(12, 6))\n",
    "sns.barplot(x=model_incidents.values, y=model_incidents.index, hue=make_incidents.index, palette='viridis', legend=False)\n",
    "plt.title(f'Top 10 Aircraft Models by Incident Count for {top_make_1} (Aircraft Category: Airplane)')\n",
    "plt.xlabel('Number of Incidents')\n",
    "plt.ylabel('Aircraft Model')\n",
    "plt.show()"
   ]
  },
  {
   "cell_type": "code",
   "execution_count": null,
   "id": "35a592cf-f433-4f93-b68b-9dc8dee82010",
   "metadata": {},
   "outputs": [],
   "source": []
  }
 ],
 "metadata": {
  "kernelspec": {
   "display_name": "Python 3 (ipykernel)",
   "language": "python",
   "name": "python3"
  },
  "language_info": {
   "codemirror_mode": {
    "name": "ipython",
    "version": 3
   },
   "file_extension": ".py",
   "mimetype": "text/x-python",
   "name": "python",
   "nbconvert_exporter": "python",
   "pygments_lexer": "ipython3",
   "version": "3.9.19"
  }
 },
 "nbformat": 4,
 "nbformat_minor": 5
}
